{
 "cells": [
  {
   "cell_type": "code",
   "execution_count": 170,
   "metadata": {},
   "outputs": [],
   "source": [
    "import pandas as pd \n",
    "import numpy as np"
   ]
  },
  {
   "cell_type": "code",
   "execution_count": 182,
   "metadata": {},
   "outputs": [
    {
     "name": "stdout",
     "output_type": "stream",
     "text": [
      "   User_Id  Patient_Id   Symptom1     Symptom2     Recommended       Selected\n",
      "0     1001           1  Sinusitis  Tonsillitis    Baihui(DU20)     BaihuiDU20\n",
      "1     1001           1  Sinusitis  Tonsillitis    Dazhui(DU14)     DazhuiDU14\n",
      "2     1001           1  Sinusitis  Tonsillitis       Hegu(LI4)        HeguLI4\n",
      "3     1001           1  Sinusitis  Tonsillitis  Quanliao(SI18)      QuchiLI11\n",
      "4     1001           1  Sinusitis  Tonsillitis     Quchi(LI11)  SanyinjiaoSP6\n"
     ]
    }
   ],
   "source": [
    "df = pd.read_csv(\"User1data.csv\")\n",
    "df = pd.DataFrame(df)\n",
    "df1 = pd.read_csv(\"User2data.csv\")\n",
    "df1 = pd.DataFrame(df1)\n",
    "df2 = pd.read_csv(\"User3data.csv\")\n",
    "df2 = pd.DataFrame(df2)\n",
    "df3 = pd.read_csv(\"User4data.csv\")\n",
    "df3 = pd.DataFrame(df3)\n",
    "df4 = pd.read_csv(\"User5data.csv\")\n",
    "df4 = pd.DataFrame(df4)\n",
    "\n",
    "print(df.head())"
   ]
  },
  {
   "cell_type": "code",
   "execution_count": 183,
   "metadata": {
    "scrolled": true
   },
   "outputs": [
    {
     "name": "stderr",
     "output_type": "stream",
     "text": [
      "C:\\Users\\User\\Anaconda3\\lib\\site-packages\\ipykernel_launcher.py:6: SettingWithCopyWarning: \n",
      "A value is trying to be set on a copy of a slice from a DataFrame\n",
      "\n",
      "See the caveats in the documentation: http://pandas.pydata.org/pandas-docs/stable/indexing.html#indexing-view-versus-copy\n",
      "  \n",
      "C:\\Users\\User\\Anaconda3\\lib\\site-packages\\ipykernel_launcher.py:10: SettingWithCopyWarning: \n",
      "A value is trying to be set on a copy of a slice from a DataFrame\n",
      "\n",
      "See the caveats in the documentation: http://pandas.pydata.org/pandas-docs/stable/indexing.html#indexing-view-versus-copy\n",
      "  # Remove the CWD from sys.path while we load stuff.\n",
      "C:\\Users\\User\\Anaconda3\\lib\\site-packages\\ipykernel_launcher.py:14: SettingWithCopyWarning: \n",
      "A value is trying to be set on a copy of a slice from a DataFrame\n",
      "\n",
      "See the caveats in the documentation: http://pandas.pydata.org/pandas-docs/stable/indexing.html#indexing-view-versus-copy\n",
      "  \n",
      "C:\\Users\\User\\Anaconda3\\lib\\site-packages\\ipykernel_launcher.py:15: SettingWithCopyWarning: \n",
      "A value is trying to be set on a copy of a slice from a DataFrame\n",
      "\n",
      "See the caveats in the documentation: http://pandas.pydata.org/pandas-docs/stable/indexing.html#indexing-view-versus-copy\n",
      "  from ipykernel import kernelapp as app\n"
     ]
    }
   ],
   "source": [
    "def NonChinese(df):\n",
    "    for i in range(0,len(df)):  \n",
    "        if(df[i].find('(')!=-1):\n",
    "            s =df[i].split('(')\n",
    "            s1 = s[1].split(')')\n",
    "            df[i]=s1[0]\n",
    "            continue\n",
    "        if(df[i] is \"NaN\"):\n",
    "            continue\n",
    "        df[i] = df[i][::-1]            \n",
    "        for j in range(0,len(df[i])-1):\n",
    "            if(df[i][j].isupper() and df[i][j+1].islower()):\n",
    "                \n",
    "                df[i] = df[i][0:j+1]\n",
    "                df[i] = df[i][::-1]\n",
    "                break \n",
    "\n",
    "def Remchinese(df):\n",
    "    df.Recommended = df.Recommended.astype(str)\n",
    "    df.Selected = df.Selected.astype(str)\n",
    "    NonChinese(df.Recommended)\n",
    "    NonChinese(df.Selected)\n",
    "    #return df\n",
    "    \n",
    "Remchinese(df)"
   ]
  },
  {
   "cell_type": "code",
   "execution_count": 186,
   "metadata": {},
   "outputs": [
    {
     "name": "stderr",
     "output_type": "stream",
     "text": [
      "C:\\Users\\User\\Anaconda3\\lib\\site-packages\\ipykernel_launcher.py:10: SettingWithCopyWarning: \n",
      "A value is trying to be set on a copy of a slice from a DataFrame\n",
      "\n",
      "See the caveats in the documentation: http://pandas.pydata.org/pandas-docs/stable/indexing.html#indexing-view-versus-copy\n",
      "  # Remove the CWD from sys.path while we load stuff.\n",
      "C:\\Users\\User\\Anaconda3\\lib\\site-packages\\ipykernel_launcher.py:14: SettingWithCopyWarning: \n",
      "A value is trying to be set on a copy of a slice from a DataFrame\n",
      "\n",
      "See the caveats in the documentation: http://pandas.pydata.org/pandas-docs/stable/indexing.html#indexing-view-versus-copy\n",
      "  \n",
      "C:\\Users\\User\\Anaconda3\\lib\\site-packages\\ipykernel_launcher.py:15: SettingWithCopyWarning: \n",
      "A value is trying to be set on a copy of a slice from a DataFrame\n",
      "\n",
      "See the caveats in the documentation: http://pandas.pydata.org/pandas-docs/stable/indexing.html#indexing-view-versus-copy\n",
      "  from ipykernel import kernelapp as app\n"
     ]
    }
   ],
   "source": [
    "Remchinese(df1)\n",
    "Remchinese(df2)\n",
    "Remchinese(df3)\n",
    "Remchinese(df4)"
   ]
  },
  {
   "cell_type": "code",
   "execution_count": 187,
   "metadata": {},
   "outputs": [
    {
     "name": "stdout",
     "output_type": "stream",
     "text": [
      "   User_Id  Patient_Id           Symptom1                 Symptom2  \\\n",
      "0     1002           1  Cardiac_disorders               Heart_pain   \n",
      "1     1002           1  Cardiac_disorders               Heart_pain   \n",
      "2     1002           1  Cardiac_disorders               Heart_pain   \n",
      "3     1002           1  Cardiac_disorders               Heart_pain   \n",
      "4     1002           1  Cardiac_disorders               Heart_pain   \n",
      "5     1002           1  Cardiac_disorders               Heart_pain   \n",
      "6     1002           1  Cardiac_disorders               Heart_pain   \n",
      "7     1002           1  Cardiac_disorders               Heart_pain   \n",
      "8     1002           2         Heart_pain  Rheumatic_heart_disease   \n",
      "9     1002           2         Heart_pain  Rheumatic_heart_disease   \n",
      "\n",
      "  Recommended Selected  \n",
      "0       U.Ex.    U.Ex.  \n",
      "1         LI4      LI4  \n",
      "2        UB14     UB14  \n",
      "3          P6       P6  \n",
      "4        ST18     ST18  \n",
      "5       Ren17      nan  \n",
      "6          H7      nan  \n",
      "7        UB15      nan  \n",
      "8        DU20      LI4  \n",
      "9         LI4     UB15  \n",
      "   User_Id  Patient_Id                 Symptom1 Symptom2 Recommended Selected\n",
      "0     1003           1  Difficult_in_swallowing   Hiccup        DU20     DU20\n",
      "1     1003           1  Difficult_in_swallowing   Hiccup        ST21       P6\n",
      "2     1003           1  Difficult_in_swallowing   Hiccup          P6    Ren17\n",
      "3     1003           1  Difficult_in_swallowing   Hiccup        DU26    Ren12\n",
      "4     1003           1  Difficult_in_swallowing   Hiccup       Ren17     ST36\n",
      "5     1003           1  Difficult_in_swallowing   Hiccup        ST25      nan\n",
      "6     1003           1  Difficult_in_swallowing   Hiccup       Ren22      nan\n",
      "7     1003           1  Difficult_in_swallowing   Hiccup        UB21      nan\n",
      "8     1003           1  Difficult_in_swallowing   Hiccup       Ren12      nan\n",
      "9     1003           1  Difficult_in_swallowing   Hiccup        ST36      nan\n",
      "   User_Id  Patient_Id          Symptom1      Symptom2 Recommended Selected\n",
      "0     1004           1  Intestinal_colic  Constipation        DU20     DU20\n",
      "1     1004           1  Intestinal_colic  Constipation         LI4     ST25\n",
      "2     1004           1  Intestinal_colic  Constipation         SP6     ST36\n",
      "3     1004           1  Intestinal_colic  Constipation        ST25      SP6\n",
      "4     1004           1  Intestinal_colic  Constipation         SJ6      SJ6\n",
      "5     1004           1  Intestinal_colic  Constipation       Ren12      nan\n",
      "6     1004           1  Intestinal_colic  Constipation        ST36      nan\n",
      "7     1004           2  Intestinal_colic  Anal_fissure        DU20     DU20\n",
      "8     1004           2  Intestinal_colic  Anal_fissure         Du1      SP6\n",
      "9     1004           2  Intestinal_colic  Anal_fissure        UB57      Du6\n",
      "   User_Id  Patient_Id   Symptom1     Symptom2 Recommended Selected\n",
      "0   1005.0           1  Sinusitis  Tonsillitis        DU20     DU20\n",
      "1      NaN           1  Sinusitis  Tonsillitis        DU14     DU14\n",
      "2      NaN           1  Sinusitis  Tonsillitis         LI4      LI4\n",
      "3      NaN           1  Sinusitis  Tonsillitis        SI18     LI11\n",
      "4      NaN           1  Sinusitis  Tonsillitis        LI11     SI17\n",
      "5      NaN           1  Sinusitis  Tonsillitis         SP6      nan\n",
      "6      NaN           1  Sinusitis  Tonsillitis        LU11      nan\n",
      "7      NaN           1  Sinusitis  Tonsillitis        SI17      nan\n",
      "8      NaN           1  Sinusitis  Tonsillitis        SP10      nan\n",
      "9      NaN           1  Sinusitis  Tonsillitis        GB14      nan\n"
     ]
    }
   ],
   "source": [
    "\n",
    "print(df1.head(10))\n",
    "print(df2.head(10))\n",
    "print(df3.head(10))\n",
    "print(df4.head(10))"
   ]
  },
  {
   "cell_type": "code",
   "execution_count": 188,
   "metadata": {},
   "outputs": [],
   "source": [
    "df.to_csv(\"Task1_User1data.csv\")\n",
    "df1.to_csv(\"Task1_User2data.csv\")\n",
    "df2.to_csv(\"Task1_User3data.csv\")\n",
    "df3.to_csv(\"Task1_User4data.csv\")\n",
    "df4.to_csv(\"Task1_User5data.csv\")"
   ]
  },
  {
   "cell_type": "code",
   "execution_count": null,
   "metadata": {},
   "outputs": [],
   "source": []
  }
 ],
 "metadata": {
  "kernelspec": {
   "display_name": "Python 3",
   "language": "python",
   "name": "python3"
  },
  "language_info": {
   "codemirror_mode": {
    "name": "ipython",
    "version": 3
   },
   "file_extension": ".py",
   "mimetype": "text/x-python",
   "name": "python",
   "nbconvert_exporter": "python",
   "pygments_lexer": "ipython3",
   "version": "3.6.5"
  }
 },
 "nbformat": 4,
 "nbformat_minor": 2
}
